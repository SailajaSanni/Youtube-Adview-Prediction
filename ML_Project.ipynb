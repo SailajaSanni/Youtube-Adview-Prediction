{
 "cells": [
  {
   "cell_type": "markdown",
   "metadata": {},
   "source": [
    "##### Step-1:Import datasets and libraries,check shape and datatype."
   ]
  },
  {
   "cell_type": "code",
   "execution_count": 1,
   "metadata": {},
   "outputs": [],
   "source": [
    "#importing libraries\n",
    "import numpy as np\n",
    "import pandas as pd\n",
    "import matplotlib.cm as cm\n",
    "import matplotlib.pyplot as plt"
   ]
  },
  {
   "cell_type": "code",
   "execution_count": 2,
   "metadata": {},
   "outputs": [],
   "source": [
    "#importing data\n",
    "path =r\"C:\\Users\\Sailaja Sanni\\Desktop\\NEO INTERNSHIP\\ML INTERNSHIP\\PROJECT WEEK\\train.csv\"\n",
    "data_train=pd.read_csv(path)"
   ]
  },
  {
   "cell_type": "code",
   "execution_count": 3,
   "metadata": {
    "scrolled": false
   },
   "outputs": [
    {
     "data": {
      "text/html": [
       "<div>\n",
       "<style scoped>\n",
       "    .dataframe tbody tr th:only-of-type {\n",
       "        vertical-align: middle;\n",
       "    }\n",
       "\n",
       "    .dataframe tbody tr th {\n",
       "        vertical-align: top;\n",
       "    }\n",
       "\n",
       "    .dataframe thead th {\n",
       "        text-align: right;\n",
       "    }\n",
       "</style>\n",
       "<table border=\"1\" class=\"dataframe\">\n",
       "  <thead>\n",
       "    <tr style=\"text-align: right;\">\n",
       "      <th></th>\n",
       "      <th>vidid</th>\n",
       "      <th>adview</th>\n",
       "      <th>views</th>\n",
       "      <th>likes</th>\n",
       "      <th>dislikes</th>\n",
       "      <th>comment</th>\n",
       "      <th>published</th>\n",
       "      <th>duration</th>\n",
       "      <th>category</th>\n",
       "    </tr>\n",
       "  </thead>\n",
       "  <tbody>\n",
       "    <tr>\n",
       "      <th>0</th>\n",
       "      <td>VID_18655</td>\n",
       "      <td>40</td>\n",
       "      <td>1031602</td>\n",
       "      <td>8523</td>\n",
       "      <td>363</td>\n",
       "      <td>1095</td>\n",
       "      <td>2016-09-14</td>\n",
       "      <td>PT7M37S</td>\n",
       "      <td>F</td>\n",
       "    </tr>\n",
       "    <tr>\n",
       "      <th>1</th>\n",
       "      <td>VID_14135</td>\n",
       "      <td>2</td>\n",
       "      <td>1707</td>\n",
       "      <td>56</td>\n",
       "      <td>2</td>\n",
       "      <td>6</td>\n",
       "      <td>2016-10-01</td>\n",
       "      <td>PT9M30S</td>\n",
       "      <td>D</td>\n",
       "    </tr>\n",
       "    <tr>\n",
       "      <th>2</th>\n",
       "      <td>VID_2187</td>\n",
       "      <td>1</td>\n",
       "      <td>2023</td>\n",
       "      <td>25</td>\n",
       "      <td>0</td>\n",
       "      <td>2</td>\n",
       "      <td>2016-07-02</td>\n",
       "      <td>PT2M16S</td>\n",
       "      <td>C</td>\n",
       "    </tr>\n",
       "    <tr>\n",
       "      <th>3</th>\n",
       "      <td>VID_23096</td>\n",
       "      <td>6</td>\n",
       "      <td>620860</td>\n",
       "      <td>777</td>\n",
       "      <td>161</td>\n",
       "      <td>153</td>\n",
       "      <td>2016-07-27</td>\n",
       "      <td>PT4M22S</td>\n",
       "      <td>H</td>\n",
       "    </tr>\n",
       "    <tr>\n",
       "      <th>4</th>\n",
       "      <td>VID_10175</td>\n",
       "      <td>1</td>\n",
       "      <td>666</td>\n",
       "      <td>1</td>\n",
       "      <td>0</td>\n",
       "      <td>0</td>\n",
       "      <td>2016-06-29</td>\n",
       "      <td>PT31S</td>\n",
       "      <td>D</td>\n",
       "    </tr>\n",
       "  </tbody>\n",
       "</table>\n",
       "</div>"
      ],
      "text/plain": [
       "       vidid  adview    views likes dislikes comment   published duration  \\\n",
       "0  VID_18655      40  1031602  8523      363    1095  2016-09-14  PT7M37S   \n",
       "1  VID_14135       2     1707    56        2       6  2016-10-01  PT9M30S   \n",
       "2   VID_2187       1     2023    25        0       2  2016-07-02  PT2M16S   \n",
       "3  VID_23096       6   620860   777      161     153  2016-07-27  PT4M22S   \n",
       "4  VID_10175       1      666     1        0       0  2016-06-29    PT31S   \n",
       "\n",
       "  category  \n",
       "0        F  \n",
       "1        D  \n",
       "2        C  \n",
       "3        H  \n",
       "4        D  "
      ]
     },
     "execution_count": 3,
     "metadata": {},
     "output_type": "execute_result"
    }
   ],
   "source": [
    "data_train.head()"
   ]
  },
  {
   "cell_type": "code",
   "execution_count": 4,
   "metadata": {},
   "outputs": [
    {
     "data": {
      "text/plain": [
       "(14999, 9)"
      ]
     },
     "execution_count": 4,
     "metadata": {},
     "output_type": "execute_result"
    }
   ],
   "source": [
    "data_train.shape"
   ]
  },
  {
   "cell_type": "code",
   "execution_count": 5,
   "metadata": {},
   "outputs": [
    {
     "data": {
      "text/plain": [
       "vidid        object\n",
       "adview        int64\n",
       "views        object\n",
       "likes        object\n",
       "dislikes     object\n",
       "comment      object\n",
       "published    object\n",
       "duration     object\n",
       "category     object\n",
       "dtype: object"
      ]
     },
     "execution_count": 5,
     "metadata": {},
     "output_type": "execute_result"
    }
   ],
   "source": [
    "data_train.dtypes"
   ]
  },
  {
   "cell_type": "markdown",
   "metadata": {},
   "source": [
    "##### Step-2:Visualise the dataset using plotting using heatmaps and plots."
   ]
  },
  {
   "cell_type": "code",
   "execution_count": 6,
   "metadata": {},
   "outputs": [
    {
     "data": {
      "image/png": "[encoded data removed]",
      "text/plain": [
       "<Figure size 432x288 with 1 Axes>"
      ]
     },
     "metadata": {
      "needs_background": "light"
     },
     "output_type": "display_data"
    },
    {
     "data": {
      "image/png": "[encoded data removed]",
      "text/plain": [
       "<Figure size 432x288 with 1 Axes>"
      ]
     },
     "metadata": {
      "needs_background": "light"
     },
     "output_type": "display_data"
    },
    {
     "data": {
      "image/png": "[encoded data removed]",
      "text/plain": [
       "<Figure size 432x288 with 1 Axes>"
      ]
     },
     "metadata": {
      "needs_background": "light"
     },
     "output_type": "display_data"
    },
    {
     "data": {
      "image/png": "[encoded data removed]",
      "text/plain": [
       "<Figure size 432x288 with 1 Axes>"
      ]
     },
     "metadata": {
      "needs_background": "light"
     },
     "output_type": "display_data"
    }
   ],
   "source": [
    "#visualizing the data for individual attributes\n",
    "plt.plot(data_train[\"adview\"])\n",
    "plt.show()\n",
    "plt.hist(data_train[\"adview\"])\n",
    "plt.show()\n",
    "plt.plot(data_train[\"category\"])\n",
    "plt.show()\n",
    "plt.hist(data_train[\"category\"])\n",
    "plt.show()"
   ]
  },
  {
   "cell_type": "code",
   "execution_count": 7,
   "metadata": {},
   "outputs": [],
   "source": [
    "#Removing the videos which are having adview greater than 2000000 as outlier\n",
    "data_train = data_train[data_train[\"adview\"] < 2000000]"
   ]
  },
  {
   "cell_type": "code",
   "execution_count": 48,
   "metadata": {},
   "outputs": [
    {
     "data": {
      "image/png": "[encoded data removed]",
      "text/plain": [
       "<Figure size 720x576 with 2 Axes>"
      ]
     },
     "metadata": {
      "needs_background": "light"
     },
     "output_type": "display_data"
    }
   ],
   "source": [
    "#Heatmap plotting\n",
    "import seaborn as sns\n",
    "f,ax = plt.subplots(figsize=(10,8))\n",
    "corr = data_train.corr()\n",
    "sns.heatmap(corr,mask=np.zeros_like(corr,bool), cmap=sns.diverging_palette(220,10,as_cmap=True),square=True, ax=ax ,annot=True)\n",
    "plt.show()"
   ]
  },
  {
   "cell_type": "markdown",
   "metadata": {},
   "source": [
    "##### Step-3:Clean the dataset by removing missing values and other things"
   ]
  },
  {
   "cell_type": "code",
   "execution_count": 9,
   "metadata": {},
   "outputs": [
    {
     "data": {
      "text/html": [
       "<div>\n",
       "<style scoped>\n",
       "    .dataframe tbody tr th:only-of-type {\n",
       "        vertical-align: middle;\n",
       "    }\n",
       "\n",
       "    .dataframe tbody tr th {\n",
       "        vertical-align: top;\n",
       "    }\n",
       "\n",
       "    .dataframe thead th {\n",
       "        text-align: right;\n",
       "    }\n",
       "</style>\n",
       "<table border=\"1\" class=\"dataframe\">\n",
       "  <thead>\n",
       "    <tr style=\"text-align: right;\">\n",
       "      <th></th>\n",
       "      <th>vidid</th>\n",
       "      <th>adview</th>\n",
       "      <th>views</th>\n",
       "      <th>likes</th>\n",
       "      <th>dislikes</th>\n",
       "      <th>comment</th>\n",
       "      <th>published</th>\n",
       "      <th>duration</th>\n",
       "      <th>category</th>\n",
       "    </tr>\n",
       "  </thead>\n",
       "  <tbody>\n",
       "    <tr>\n",
       "      <th>0</th>\n",
       "      <td>VID_18655</td>\n",
       "      <td>40</td>\n",
       "      <td>1031602</td>\n",
       "      <td>8523</td>\n",
       "      <td>363</td>\n",
       "      <td>1095</td>\n",
       "      <td>2016-09-14</td>\n",
       "      <td>PT7M37S</td>\n",
       "      <td>F</td>\n",
       "    </tr>\n",
       "    <tr>\n",
       "      <th>1</th>\n",
       "      <td>VID_14135</td>\n",
       "      <td>2</td>\n",
       "      <td>1707</td>\n",
       "      <td>56</td>\n",
       "      <td>2</td>\n",
       "      <td>6</td>\n",
       "      <td>2016-10-01</td>\n",
       "      <td>PT9M30S</td>\n",
       "      <td>D</td>\n",
       "    </tr>\n",
       "    <tr>\n",
       "      <th>2</th>\n",
       "      <td>VID_2187</td>\n",
       "      <td>1</td>\n",
       "      <td>2023</td>\n",
       "      <td>25</td>\n",
       "      <td>0</td>\n",
       "      <td>2</td>\n",
       "      <td>2016-07-02</td>\n",
       "      <td>PT2M16S</td>\n",
       "      <td>C</td>\n",
       "    </tr>\n",
       "    <tr>\n",
       "      <th>3</th>\n",
       "      <td>VID_23096</td>\n",
       "      <td>6</td>\n",
       "      <td>620860</td>\n",
       "      <td>777</td>\n",
       "      <td>161</td>\n",
       "      <td>153</td>\n",
       "      <td>2016-07-27</td>\n",
       "      <td>PT4M22S</td>\n",
       "      <td>H</td>\n",
       "    </tr>\n",
       "    <tr>\n",
       "      <th>4</th>\n",
       "      <td>VID_10175</td>\n",
       "      <td>1</td>\n",
       "      <td>666</td>\n",
       "      <td>1</td>\n",
       "      <td>0</td>\n",
       "      <td>0</td>\n",
       "      <td>2016-06-29</td>\n",
       "      <td>PT31S</td>\n",
       "      <td>D</td>\n",
       "    </tr>\n",
       "  </tbody>\n",
       "</table>\n",
       "</div>"
      ],
      "text/plain": [
       "       vidid  adview    views likes dislikes comment   published duration  \\\n",
       "0  VID_18655      40  1031602  8523      363    1095  2016-09-14  PT7M37S   \n",
       "1  VID_14135       2     1707    56        2       6  2016-10-01  PT9M30S   \n",
       "2   VID_2187       1     2023    25        0       2  2016-07-02  PT2M16S   \n",
       "3  VID_23096       6   620860   777      161     153  2016-07-27  PT4M22S   \n",
       "4  VID_10175       1      666     1        0       0  2016-06-29    PT31S   \n",
       "\n",
       "  category  \n",
       "0        F  \n",
       "1        D  \n",
       "2        C  \n",
       "3        H  \n",
       "4        D  "
      ]
     },
     "execution_count": 9,
     "metadata": {},
     "output_type": "execute_result"
    }
   ],
   "source": [
    "#Removing the character \"F\" wherever it is present in the data\n",
    "data_train=data_train[data_train.views!='F']\n",
    "data_train=data_train[data_train.likes!='F']\n",
    "data_train=data_train[data_train.dislikes!='F']\n",
    "data_train=data_train[data_train.comment!='F']\n",
    "data_train.head()"
   ]
  },
  {
   "cell_type": "code",
   "execution_count": 10,
   "metadata": {},
   "outputs": [
    {
     "data": {
      "text/html": [
       "<div>\n",
       "<style scoped>\n",
       "    .dataframe tbody tr th:only-of-type {\n",
       "        vertical-align: middle;\n",
       "    }\n",
       "\n",
       "    .dataframe tbody tr th {\n",
       "        vertical-align: top;\n",
       "    }\n",
       "\n",
       "    .dataframe thead th {\n",
       "        text-align: right;\n",
       "    }\n",
       "</style>\n",
       "<table border=\"1\" class=\"dataframe\">\n",
       "  <thead>\n",
       "    <tr style=\"text-align: right;\">\n",
       "      <th></th>\n",
       "      <th>vidid</th>\n",
       "      <th>adview</th>\n",
       "      <th>views</th>\n",
       "      <th>likes</th>\n",
       "      <th>dislikes</th>\n",
       "      <th>comment</th>\n",
       "      <th>published</th>\n",
       "      <th>duration</th>\n",
       "      <th>category</th>\n",
       "    </tr>\n",
       "  </thead>\n",
       "  <tbody>\n",
       "    <tr>\n",
       "      <th>0</th>\n",
       "      <td>VID_18655</td>\n",
       "      <td>40</td>\n",
       "      <td>1031602</td>\n",
       "      <td>8523</td>\n",
       "      <td>363</td>\n",
       "      <td>1095</td>\n",
       "      <td>2016-09-14</td>\n",
       "      <td>PT7M37S</td>\n",
       "      <td>6</td>\n",
       "    </tr>\n",
       "    <tr>\n",
       "      <th>1</th>\n",
       "      <td>VID_14135</td>\n",
       "      <td>2</td>\n",
       "      <td>1707</td>\n",
       "      <td>56</td>\n",
       "      <td>2</td>\n",
       "      <td>6</td>\n",
       "      <td>2016-10-01</td>\n",
       "      <td>PT9M30S</td>\n",
       "      <td>4</td>\n",
       "    </tr>\n",
       "    <tr>\n",
       "      <th>2</th>\n",
       "      <td>VID_2187</td>\n",
       "      <td>1</td>\n",
       "      <td>2023</td>\n",
       "      <td>25</td>\n",
       "      <td>0</td>\n",
       "      <td>2</td>\n",
       "      <td>2016-07-02</td>\n",
       "      <td>PT2M16S</td>\n",
       "      <td>3</td>\n",
       "    </tr>\n",
       "    <tr>\n",
       "      <th>3</th>\n",
       "      <td>VID_23096</td>\n",
       "      <td>6</td>\n",
       "      <td>620860</td>\n",
       "      <td>777</td>\n",
       "      <td>161</td>\n",
       "      <td>153</td>\n",
       "      <td>2016-07-27</td>\n",
       "      <td>PT4M22S</td>\n",
       "      <td>8</td>\n",
       "    </tr>\n",
       "    <tr>\n",
       "      <th>4</th>\n",
       "      <td>VID_10175</td>\n",
       "      <td>1</td>\n",
       "      <td>666</td>\n",
       "      <td>1</td>\n",
       "      <td>0</td>\n",
       "      <td>0</td>\n",
       "      <td>2016-06-29</td>\n",
       "      <td>PT31S</td>\n",
       "      <td>4</td>\n",
       "    </tr>\n",
       "  </tbody>\n",
       "</table>\n",
       "</div>"
      ],
      "text/plain": [
       "       vidid  adview    views likes dislikes comment   published duration  \\\n",
       "0  VID_18655      40  1031602  8523      363    1095  2016-09-14  PT7M37S   \n",
       "1  VID_14135       2     1707    56        2       6  2016-10-01  PT9M30S   \n",
       "2   VID_2187       1     2023    25        0       2  2016-07-02  PT2M16S   \n",
       "3  VID_23096       6   620860   777      161     153  2016-07-27  PT4M22S   \n",
       "4  VID_10175       1      666     1        0       0  2016-06-29    PT31S   \n",
       "\n",
       "   category  \n",
       "0         6  \n",
       "1         4  \n",
       "2         3  \n",
       "3         8  \n",
       "4         4  "
      ]
     },
     "execution_count": 10,
     "metadata": {},
     "output_type": "execute_result"
    }
   ],
   "source": [
    "#Assigning a number for each category feature\n",
    "category={'A':1,'B':2,'C':3,'D':4,'E':5,'F':6,'G':7,'H':8}\n",
    "data_train[\"category\"]=data_train[\"category\"].map(category)\n",
    "data_train.head()"
   ]
  },
  {
   "cell_type": "markdown",
   "metadata": {},
   "source": [
    "Step-4:Transform attributes into numerical values and other necessary transformations"
   ]
  },
  {
   "cell_type": "code",
   "execution_count": 11,
   "metadata": {},
   "outputs": [],
   "source": [
    "#convert string values into integers for the attributes called views,likes,comments,dislikes and adview\n",
    "data_train[\"views\"]=pd.to_numeric(data_train[\"views\"])\n",
    "data_train[\"comment\"]=pd.to_numeric(data_train[\"comment\"])\n",
    "data_train[\"likes\"]=pd.to_numeric(data_train[\"likes\"])\n",
    "data_train[\"dislikes\"]=pd.to_numeric(data_train[\"dislikes\"])\n",
    "data_train[\"adview\"]=pd.to_numeric(data_train[\"adview\"])\n",
    "\n",
    "column_vidid=data_train['vidid']"
   ]
  },
  {
   "cell_type": "code",
   "execution_count": 12,
   "metadata": {},
   "outputs": [
    {
     "data": {
      "text/html": [
       "<div>\n",
       "<style scoped>\n",
       "    .dataframe tbody tr th:only-of-type {\n",
       "        vertical-align: middle;\n",
       "    }\n",
       "\n",
       "    .dataframe tbody tr th {\n",
       "        vertical-align: top;\n",
       "    }\n",
       "\n",
       "    .dataframe thead th {\n",
       "        text-align: right;\n",
       "    }\n",
       "</style>\n",
       "<table border=\"1\" class=\"dataframe\">\n",
       "  <thead>\n",
       "    <tr style=\"text-align: right;\">\n",
       "      <th></th>\n",
       "      <th>vidid</th>\n",
       "      <th>adview</th>\n",
       "      <th>views</th>\n",
       "      <th>likes</th>\n",
       "      <th>dislikes</th>\n",
       "      <th>comment</th>\n",
       "      <th>published</th>\n",
       "      <th>duration</th>\n",
       "      <th>category</th>\n",
       "    </tr>\n",
       "  </thead>\n",
       "  <tbody>\n",
       "    <tr>\n",
       "      <th>0</th>\n",
       "      <td>5912</td>\n",
       "      <td>40</td>\n",
       "      <td>1031602</td>\n",
       "      <td>8523</td>\n",
       "      <td>363</td>\n",
       "      <td>1095</td>\n",
       "      <td>2168</td>\n",
       "      <td>2925</td>\n",
       "      <td>6</td>\n",
       "    </tr>\n",
       "    <tr>\n",
       "      <th>1</th>\n",
       "      <td>2741</td>\n",
       "      <td>2</td>\n",
       "      <td>1707</td>\n",
       "      <td>56</td>\n",
       "      <td>2</td>\n",
       "      <td>6</td>\n",
       "      <td>2185</td>\n",
       "      <td>3040</td>\n",
       "      <td>4</td>\n",
       "    </tr>\n",
       "    <tr>\n",
       "      <th>2</th>\n",
       "      <td>8138</td>\n",
       "      <td>1</td>\n",
       "      <td>2023</td>\n",
       "      <td>25</td>\n",
       "      <td>0</td>\n",
       "      <td>2</td>\n",
       "      <td>2094</td>\n",
       "      <td>1863</td>\n",
       "      <td>3</td>\n",
       "    </tr>\n",
       "    <tr>\n",
       "      <th>3</th>\n",
       "      <td>9004</td>\n",
       "      <td>6</td>\n",
       "      <td>620860</td>\n",
       "      <td>777</td>\n",
       "      <td>161</td>\n",
       "      <td>153</td>\n",
       "      <td>2119</td>\n",
       "      <td>2546</td>\n",
       "      <td>8</td>\n",
       "    </tr>\n",
       "    <tr>\n",
       "      <th>4</th>\n",
       "      <td>122</td>\n",
       "      <td>1</td>\n",
       "      <td>666</td>\n",
       "      <td>1</td>\n",
       "      <td>0</td>\n",
       "      <td>0</td>\n",
       "      <td>2091</td>\n",
       "      <td>1963</td>\n",
       "      <td>4</td>\n",
       "    </tr>\n",
       "  </tbody>\n",
       "</table>\n",
       "</div>"
      ],
      "text/plain": [
       "   vidid  adview    views  likes  dislikes  comment  published  duration  \\\n",
       "0   5912      40  1031602   8523       363     1095       2168      2925   \n",
       "1   2741       2     1707     56         2        6       2185      3040   \n",
       "2   8138       1     2023     25         0        2       2094      1863   \n",
       "3   9004       6   620860    777       161      153       2119      2546   \n",
       "4    122       1      666      1         0        0       2091      1963   \n",
       "\n",
       "   category  \n",
       "0         6  \n",
       "1         4  \n",
       "2         3  \n",
       "3         8  \n",
       "4         4  "
      ]
     },
     "execution_count": 12,
     "metadata": {},
     "output_type": "execute_result"
    }
   ],
   "source": [
    "#Encoding the attribute features like duration,vidid,published\n",
    "from sklearn.preprocessing import LabelEncoder\n",
    "data_train['duration']=LabelEncoder().fit_transform(data_train['duration'])\n",
    "data_train['vidid']=LabelEncoder().fit_transform(data_train['vidid'])\n",
    "data_train['published']=LabelEncoder().fit_transform(data_train['published'])\n",
    "data_train.head()"
   ]
  },
  {
   "cell_type": "code",
   "execution_count": 13,
   "metadata": {},
   "outputs": [
    {
     "data": {
      "text/html": [
       "<div>\n",
       "<style scoped>\n",
       "    .dataframe tbody tr th:only-of-type {\n",
       "        vertical-align: middle;\n",
       "    }\n",
       "\n",
       "    .dataframe tbody tr th {\n",
       "        vertical-align: top;\n",
       "    }\n",
       "\n",
       "    .dataframe thead th {\n",
       "        text-align: right;\n",
       "    }\n",
       "</style>\n",
       "<table border=\"1\" class=\"dataframe\">\n",
       "  <thead>\n",
       "    <tr style=\"text-align: right;\">\n",
       "      <th></th>\n",
       "      <th>vidid</th>\n",
       "      <th>adview</th>\n",
       "      <th>views</th>\n",
       "      <th>likes</th>\n",
       "      <th>dislikes</th>\n",
       "      <th>comment</th>\n",
       "      <th>published</th>\n",
       "      <th>duration</th>\n",
       "      <th>category</th>\n",
       "    </tr>\n",
       "  </thead>\n",
       "  <tbody>\n",
       "    <tr>\n",
       "      <th>0</th>\n",
       "      <td>5912</td>\n",
       "      <td>40</td>\n",
       "      <td>1031602</td>\n",
       "      <td>8523</td>\n",
       "      <td>363</td>\n",
       "      <td>1095</td>\n",
       "      <td>2168</td>\n",
       "      <td>457</td>\n",
       "      <td>6</td>\n",
       "    </tr>\n",
       "    <tr>\n",
       "      <th>1</th>\n",
       "      <td>2741</td>\n",
       "      <td>2</td>\n",
       "      <td>1707</td>\n",
       "      <td>56</td>\n",
       "      <td>2</td>\n",
       "      <td>6</td>\n",
       "      <td>2185</td>\n",
       "      <td>570</td>\n",
       "      <td>4</td>\n",
       "    </tr>\n",
       "    <tr>\n",
       "      <th>2</th>\n",
       "      <td>8138</td>\n",
       "      <td>1</td>\n",
       "      <td>2023</td>\n",
       "      <td>25</td>\n",
       "      <td>0</td>\n",
       "      <td>2</td>\n",
       "      <td>2094</td>\n",
       "      <td>136</td>\n",
       "      <td>3</td>\n",
       "    </tr>\n",
       "    <tr>\n",
       "      <th>3</th>\n",
       "      <td>9004</td>\n",
       "      <td>6</td>\n",
       "      <td>620860</td>\n",
       "      <td>777</td>\n",
       "      <td>161</td>\n",
       "      <td>153</td>\n",
       "      <td>2119</td>\n",
       "      <td>262</td>\n",
       "      <td>8</td>\n",
       "    </tr>\n",
       "    <tr>\n",
       "      <th>4</th>\n",
       "      <td>122</td>\n",
       "      <td>1</td>\n",
       "      <td>666</td>\n",
       "      <td>1</td>\n",
       "      <td>0</td>\n",
       "      <td>0</td>\n",
       "      <td>2091</td>\n",
       "      <td>31</td>\n",
       "      <td>4</td>\n",
       "    </tr>\n",
       "  </tbody>\n",
       "</table>\n",
       "</div>"
      ],
      "text/plain": [
       "   vidid  adview    views  likes  dislikes  comment  published  duration  \\\n",
       "0   5912      40  1031602   8523       363     1095       2168       457   \n",
       "1   2741       2     1707     56         2        6       2185       570   \n",
       "2   8138       1     2023     25         0        2       2094       136   \n",
       "3   9004       6   620860    777       161      153       2119       262   \n",
       "4    122       1      666      1         0        0       2091        31   \n",
       "\n",
       "   category  \n",
       "0         6  \n",
       "1         4  \n",
       "2         3  \n",
       "3         8  \n",
       "4         4  "
      ]
     },
     "execution_count": 13,
     "metadata": {},
     "output_type": "execute_result"
    }
   ],
   "source": [
    "#Converting duration into Time_in_sec format \n",
    "import datetime\n",
    "import time\n",
    "def checki(x):\n",
    "    y=x[2:]\n",
    "    h=''\n",
    "    m=''\n",
    "    s=''\n",
    "    mm=''\n",
    "    p=['H','M','S']\n",
    "    for i in y:\n",
    "        if i not in p:\n",
    "            mm+=i\n",
    "        else:\n",
    "            if(i==\"H\"):\n",
    "                h=mm\n",
    "                mm=''\n",
    "            elif(i==\"M\"):\n",
    "                m=mm\n",
    "                mm=''\n",
    "            else:\n",
    "                s=mm\n",
    "                mm=''\n",
    "    if(h==''):\n",
    "        h='00'\n",
    "    if(m==''):\n",
    "        m='00'\n",
    "    if(s==''):\n",
    "        s='00'\n",
    "    bp = h+':'+m+':'+s\n",
    "    return bp\n",
    "train=pd.read_csv(r\"C:\\Users\\Sailaja Sanni\\Desktop\\NEO INTERNSHIP\\ML INTERNSHIP\\PROJECT WEEK\\train.csv\")\n",
    "mp=pd.read_csv(r\"C:\\Users\\Sailaja Sanni\\Desktop\\NEO INTERNSHIP\\ML INTERNSHIP\\PROJECT WEEK\\train.csv\")[\"duration\"]\n",
    "time=mp.apply(checki)\n",
    "\n",
    "def func_sec(time_string):\n",
    "    h,m,s =time_string.split(':')\n",
    "    return int(h) * 3600 + int(m) *60 + int(s)\n",
    "time1=time.apply(func_sec)\n",
    "data_train[\"duration\"]=time1\n",
    "data_train.head()\n"
   ]
  },
  {
   "cell_type": "code",
   "execution_count": 14,
   "metadata": {},
   "outputs": [
    {
     "data": {
      "image/png": "[encoded data removed]",
      "text/plain": [
       "<Figure size 432x288 with 1 Axes>"
      ]
     },
     "metadata": {
      "needs_background": "light"
     },
     "output_type": "display_data"
    },
    {
     "data": {
      "image/png": "[encoded data removed]",
      "text/plain": [
       "<Figure size 432x288 with 1 Axes>"
      ]
     },
     "metadata": {
      "needs_background": "light"
     },
     "output_type": "display_data"
    },
    {
     "data": {
      "image/png": "[encoded data removed]",
      "text/plain": [
       "<Figure size 432x288 with 1 Axes>"
      ]
     },
     "metadata": {
      "needs_background": "light"
     },
     "output_type": "display_data"
    },
    {
     "data": {
      "image/png": "[encoded data removed]",
      "text/plain": [
       "<Figure size 432x288 with 1 Axes>"
      ]
     },
     "metadata": {
      "needs_background": "light"
     },
     "output_type": "display_data"
    }
   ],
   "source": [
    "#visualizing the data for individual attributes\n",
    "plt.plot(data_train[\"adview\"])\n",
    "plt.show()\n",
    "plt.hist(data_train[\"adview\"])\n",
    "plt.show()\n",
    "plt.plot(data_train[\"category\"])\n",
    "plt.show()\n",
    "plt.hist(data_train[\"category\"])\n",
    "plt.show()"
   ]
  },
  {
   "cell_type": "code",
   "execution_count": 15,
   "metadata": {},
   "outputs": [
    {
     "data": {
      "text/plain": [
       "(14636, 9)"
      ]
     },
     "execution_count": 15,
     "metadata": {},
     "output_type": "execute_result"
    }
   ],
   "source": [
    "#Removing the videos which are having adview greater than 2000000 as outlier\n",
    "data_train = data_train[data_train[\"adview\"] < 2000000]\n",
    "data_train\n",
    "data_train.shape"
   ]
  },
  {
   "cell_type": "code",
   "execution_count": 16,
   "metadata": {},
   "outputs": [
    {
     "data": {
      "image/png": "[encoded data removed]",
      "text/plain": [
       "<Figure size 720x576 with 2 Axes>"
      ]
     },
     "metadata": {
      "needs_background": "light"
     },
     "output_type": "display_data"
    }
   ],
   "source": [
    "#Heatmap plotting\n",
    "import seaborn as sns\n",
    "f,ax = plt.subplots(figsize=(10,8))\n",
    "corr = data_train.corr()\n",
    "sns.heatmap(corr,mask=np.zeros_like(corr), cmap=sns.diverging_palette(220,10,as_cmap=True),square=True, ax=ax ,annot=True)\n",
    "plt.show()"
   ]
  },
  {
   "cell_type": "markdown",
   "metadata": {},
   "source": [
    "##### Step-5:Normalise your data and split the data into training, validation and test set in the appropriate ratio"
   ]
  },
  {
   "cell_type": "code",
   "execution_count": 17,
   "metadata": {},
   "outputs": [
    {
     "data": {
      "text/html": [
       "<div>\n",
       "<style scoped>\n",
       "    .dataframe tbody tr th:only-of-type {\n",
       "        vertical-align: middle;\n",
       "    }\n",
       "\n",
       "    .dataframe tbody tr th {\n",
       "        vertical-align: top;\n",
       "    }\n",
       "\n",
       "    .dataframe thead th {\n",
       "        text-align: right;\n",
       "    }\n",
       "</style>\n",
       "<table border=\"1\" class=\"dataframe\">\n",
       "  <thead>\n",
       "    <tr style=\"text-align: right;\">\n",
       "      <th></th>\n",
       "      <th>views</th>\n",
       "      <th>likes</th>\n",
       "      <th>dislikes</th>\n",
       "      <th>comment</th>\n",
       "      <th>published</th>\n",
       "      <th>duration</th>\n",
       "      <th>category</th>\n",
       "    </tr>\n",
       "  </thead>\n",
       "  <tbody>\n",
       "    <tr>\n",
       "      <th>0</th>\n",
       "      <td>1031602</td>\n",
       "      <td>8523</td>\n",
       "      <td>363</td>\n",
       "      <td>1095</td>\n",
       "      <td>2168</td>\n",
       "      <td>457</td>\n",
       "      <td>6</td>\n",
       "    </tr>\n",
       "    <tr>\n",
       "      <th>1</th>\n",
       "      <td>1707</td>\n",
       "      <td>56</td>\n",
       "      <td>2</td>\n",
       "      <td>6</td>\n",
       "      <td>2185</td>\n",
       "      <td>570</td>\n",
       "      <td>4</td>\n",
       "    </tr>\n",
       "    <tr>\n",
       "      <th>2</th>\n",
       "      <td>2023</td>\n",
       "      <td>25</td>\n",
       "      <td>0</td>\n",
       "      <td>2</td>\n",
       "      <td>2094</td>\n",
       "      <td>136</td>\n",
       "      <td>3</td>\n",
       "    </tr>\n",
       "    <tr>\n",
       "      <th>3</th>\n",
       "      <td>620860</td>\n",
       "      <td>777</td>\n",
       "      <td>161</td>\n",
       "      <td>153</td>\n",
       "      <td>2119</td>\n",
       "      <td>262</td>\n",
       "      <td>8</td>\n",
       "    </tr>\n",
       "    <tr>\n",
       "      <th>4</th>\n",
       "      <td>666</td>\n",
       "      <td>1</td>\n",
       "      <td>0</td>\n",
       "      <td>0</td>\n",
       "      <td>2091</td>\n",
       "      <td>31</td>\n",
       "      <td>4</td>\n",
       "    </tr>\n",
       "  </tbody>\n",
       "</table>\n",
       "</div>"
      ],
      "text/plain": [
       "     views  likes  dislikes  comment  published  duration  category\n",
       "0  1031602   8523       363     1095       2168       457         6\n",
       "1     1707     56         2        6       2185       570         4\n",
       "2     2023     25         0        2       2094       136         3\n",
       "3   620860    777       161      153       2119       262         8\n",
       "4      666      1         0        0       2091        31         4"
      ]
     },
     "execution_count": 17,
     "metadata": {},
     "output_type": "execute_result"
    }
   ],
   "source": [
    "#Split the dataset into training and testing\n",
    "Y_train = pd.DataFrame(data=data_train.iloc[:,1].values,columns = ['target'])\n",
    "data_train=data_train.drop([\"adview\"],axis=1)\n",
    "data_train=data_train.drop([\"vidid\"],axis=1)\n",
    "data_train.head()"
   ]
  },
  {
   "cell_type": "code",
   "execution_count": 18,
   "metadata": {},
   "outputs": [
    {
     "data": {
      "text/plain": [
       "(14636, 7)"
      ]
     },
     "execution_count": 18,
     "metadata": {},
     "output_type": "execute_result"
    }
   ],
   "source": [
    "data_train.shape"
   ]
  },
  {
   "cell_type": "code",
   "execution_count": 19,
   "metadata": {},
   "outputs": [
    {
     "data": {
      "text/plain": [
       "(11708, 7)"
      ]
     },
     "execution_count": 19,
     "metadata": {},
     "output_type": "execute_result"
    }
   ],
   "source": [
    "from sklearn.model_selection import train_test_split\n",
    "x_train,x_test,y_train,y_test = train_test_split(data_train,Y_train,test_size=0.2,random_state=42)\n",
    "x_train.shape"
   ]
  },
  {
   "cell_type": "code",
   "execution_count": 20,
   "metadata": {},
   "outputs": [
    {
     "data": {
      "text/plain": [
       "0.1739096800320488"
      ]
     },
     "execution_count": 20,
     "metadata": {},
     "output_type": "execute_result"
    }
   ],
   "source": [
    "#Normalise the dataset using scalars\n",
    "from sklearn.preprocessing import MinMaxScaler\n",
    "scaler=MinMaxScaler()\n",
    "x_train=scaler.fit_transform(x_train)\n",
    "x_test=scaler.fit_transform(x_test)\n",
    "x_train.mean()\n",
    "#x_train.std()"
   ]
  },
  {
   "cell_type": "markdown",
   "metadata": {},
   "source": [
    "##### Step-6:Use linear regression, Support Vector Regressor for training and get errors"
   ]
  },
  {
   "cell_type": "code",
   "execution_count": 21,
   "metadata": {},
   "outputs": [],
   "source": [
    "#Evaluation metrics\n",
    "from sklearn import metrics\n",
    "def print_error(x_test,y_test,model_name):\n",
    "    prediction = model_name.predict(x_test)\n",
    "    print('Mean Absolute Error:',metrics.mean_absolute_error(y_test,prediction))\n",
    "    print('Mean Squared Error:',metrics.mean_squared_error(y_test,prediction))\n",
    "    print('Root Mean Sqaured Error:',np.sqrt(metrics.mean_squared_error(y_test,prediction)))"
   ]
  },
  {
   "cell_type": "code",
   "execution_count": 22,
   "metadata": {},
   "outputs": [
    {
     "name": "stdout",
     "output_type": "stream",
     "text": [
      "Mean Absolute Error: 3707.3780058245334\n",
      "Mean Squared Error: 835663131.1210337\n",
      "Root Mean Sqaured Error: 28907.83857573986\n"
     ]
    }
   ],
   "source": [
    "#Linear Regression Model\n",
    "from sklearn import linear_model\n",
    "linear_regression=linear_model.LinearRegression()\n",
    "linear_regression.fit(x_train,y_train)\n",
    "print_error(x_test,y_test,linear_regression)\n"
   ]
  },
  {
   "cell_type": "code",
   "execution_count": 23,
   "metadata": {},
   "outputs": [
    {
     "name": "stdout",
     "output_type": "stream",
     "text": [
      "Mean Absolute Error: 1696.9438599505638\n",
      "Mean Squared Error: 833685776.029172\n",
      "Root Mean Sqaured Error: 28873.617300732723\n"
     ]
    }
   ],
   "source": [
    "#Support Vector Regressor Model\n",
    "from sklearn.svm import SVR\n",
    "supportvector_regressor = SVR()\n",
    "supportvector_regressor.fit(x_train,np.ravel(y_train))\n",
    "print_error(x_test,y_test,supportvector_regressor)"
   ]
  },
  {
   "cell_type": "markdown",
   "metadata": {},
   "source": [
    "##### Step-7:Use Decision Tree Regressor and Random Forest Regressors"
   ]
  },
  {
   "cell_type": "code",
   "execution_count": 24,
   "metadata": {},
   "outputs": [
    {
     "name": "stdout",
     "output_type": "stream",
     "text": [
      "Mean Absolute Error: 2777.4207650273224\n",
      "Mean Squared Error: 900657598.261612\n",
      "Root Mean Sqaured Error: 30010.957969741852\n"
     ]
    }
   ],
   "source": [
    "#Decision Tree Regressor model\n",
    "from sklearn.tree import DecisionTreeRegressor\n",
    "decision_tree = DecisionTreeRegressor(random_state=0)\n",
    "decision_tree = DecisionTreeRegressor(splitter='best', random_state=None)\n",
    "decision_tree.fit(x_train,y_train)\n",
    "print_error(x_test,y_test,decision_tree)"
   ]
  },
  {
   "cell_type": "code",
   "execution_count": 25,
   "metadata": {},
   "outputs": [
    {
     "name": "stdout",
     "output_type": "stream",
     "text": [
      "Mean Absolute Error: 3360.9650604432063\n",
      "Mean Squared Error: 736769883.8074012\n",
      "Root Mean Sqaured Error: 27143.505370666502\n"
     ]
    }
   ],
   "source": [
    "#Random Forest regressor model\n",
    "from sklearn.ensemble import  RandomForestRegressor\n",
    "n_estimators=200\n",
    "max_depth=25\n",
    "min_samples_split=15\n",
    "min_samples_leaf=2\n",
    "random_forest=RandomForestRegressor(n_estimators=n_estimators,max_depth=max_depth,min_samples_split=min_samples_split,min_samples_leaf=min_samples_leaf)\n",
    "random_forest.fit(x_train,np.ravel(y_train))\n",
    "print_error(x_test,y_test,random_forest)"
   ]
  },
  {
   "cell_type": "markdown",
   "metadata": {},
   "source": [
    "##### Step-8:Build an artificial neural network and train it with different layers and hyperparameters. Experiment a little. Use keras."
   ]
  },
  {
   "cell_type": "code",
   "execution_count": 26,
   "metadata": {},
   "outputs": [
    {
     "name": "stdout",
     "output_type": "stream",
     "text": [
      "Epoch 1/100\n",
      "366/366 [==============================] - 1s 2ms/step - loss: 767406208.0000 - mean_squared_error: 767406208.0000\n",
      "Epoch 2/100\n",
      "366/366 [==============================] - 1s 2ms/step - loss: 767399360.0000 - mean_squared_error: 767399360.0000\n",
      "Epoch 3/100\n",
      "366/366 [==============================] - 0s 1ms/step - loss: 767383168.0000 - mean_squared_error: 767383168.0000\n",
      "Epoch 4/100\n",
      "366/366 [==============================] - 1s 1ms/step - loss: 767349824.0000 - mean_squared_error: 767349824.0000\n",
      "Epoch 5/100\n",
      "366/366 [==============================] - 0s 1ms/step - loss: 767293056.0000 - mean_squared_error: 767293056.0000\n",
      "Epoch 6/100\n",
      "366/366 [==============================] - 1s 1ms/step - loss: 767212352.0000 - mean_squared_error: 767212352.0000\n",
      "Epoch 7/100\n",
      "366/366 [==============================] - 0s 1ms/step - loss: 767106048.0000 - mean_squared_error: 767106048.0000\n",
      "Epoch 8/100\n",
      "366/366 [==============================] - 0s 1ms/step - loss: 766977536.0000 - mean_squared_error: 766977536.0000\n",
      "Epoch 9/100\n",
      "366/366 [==============================] - 0s 1ms/step - loss: 766826816.0000 - mean_squared_error: 766826816.0000\n",
      "Epoch 10/100\n",
      "366/366 [==============================] - 0s 1ms/step - loss: 766661056.0000 - mean_squared_error: 766661056.0000\n",
      "Epoch 11/100\n",
      "366/366 [==============================] - 1s 1ms/step - loss: 766489728.0000 - mean_squared_error: 766489728.0000\n",
      "Epoch 12/100\n",
      "366/366 [==============================] - 0s 1ms/step - loss: 766313792.0000 - mean_squared_error: 766313792.0000\n",
      "Epoch 13/100\n",
      "366/366 [==============================] - 0s 1ms/step - loss: 766131136.0000 - mean_squared_error: 766131136.0000\n",
      "Epoch 14/100\n",
      "366/366 [==============================] - 0s 1ms/step - loss: 765944576.0000 - mean_squared_error: 765944576.0000\n",
      "Epoch 15/100\n",
      "366/366 [==============================] - 1s 1ms/step - loss: 765778688.0000 - mean_squared_error: 765778688.0000\n",
      "Epoch 16/100\n",
      "366/366 [==============================] - 0s 1ms/step - loss: 765606528.0000 - mean_squared_error: 765606528.0000\n",
      "Epoch 17/100\n",
      "366/366 [==============================] - 1s 1ms/step - loss: 765432256.0000 - mean_squared_error: 765432256.0000\n",
      "Epoch 18/100\n",
      "366/366 [==============================] - 0s 1ms/step - loss: 765262016.0000 - mean_squared_error: 765262016.0000\n",
      "Epoch 19/100\n",
      "366/366 [==============================] - 0s 1ms/step - loss: 765104896.0000 - mean_squared_error: 765104896.0000\n",
      "Epoch 20/100\n",
      "366/366 [==============================] - 1s 1ms/step - loss: 764960640.0000 - mean_squared_error: 764960640.0000\n",
      "Epoch 21/100\n",
      "366/366 [==============================] - 0s 1ms/step - loss: 764830592.0000 - mean_squared_error: 764830592.0000\n",
      "Epoch 22/100\n",
      "366/366 [==============================] - 0s 1ms/step - loss: 764719872.0000 - mean_squared_error: 764719872.0000: 0s - loss: 454080128.0000 - mean_squared_error: 454080\n",
      "Epoch 23/100\n",
      "366/366 [==============================] - 0s 1ms/step - loss: 764610880.0000 - mean_squared_error: 764610880.0000\n",
      "Epoch 24/100\n",
      "366/366 [==============================] - 1s 1ms/step - loss: 764517760.0000 - mean_squared_error: 764517760.0000\n",
      "Epoch 25/100\n",
      "366/366 [==============================] - 0s 1ms/step - loss: 764431808.0000 - mean_squared_error: 764431808.0000\n",
      "Epoch 26/100\n",
      "366/366 [==============================] - 0s 1ms/step - loss: 764357376.0000 - mean_squared_error: 764357376.0000\n",
      "Epoch 27/100\n",
      "366/366 [==============================] - 0s 1ms/step - loss: 764287936.0000 - mean_squared_error: 764287936.0000\n",
      "Epoch 28/100\n",
      "366/366 [==============================] - 0s 1ms/step - loss: 764232896.0000 - mean_squared_error: 764232896.0000\n",
      "Epoch 29/100\n",
      "366/366 [==============================] - 0s 1ms/step - loss: 764183424.0000 - mean_squared_error: 764183424.0000\n",
      "Epoch 30/100\n",
      "366/366 [==============================] - 0s 1ms/step - loss: 764136576.0000 - mean_squared_error: 764136576.0000\n",
      "Epoch 31/100\n",
      "366/366 [==============================] - 1s 1ms/step - loss: 764097472.0000 - mean_squared_error: 764097472.0000\n",
      "Epoch 32/100\n",
      "366/366 [==============================] - 0s 1ms/step - loss: 764061824.0000 - mean_squared_error: 764061824.0000\n",
      "Epoch 33/100\n",
      "366/366 [==============================] - 0s 1ms/step - loss: 764032960.0000 - mean_squared_error: 764032960.0000\n",
      "Epoch 34/100\n",
      "366/366 [==============================] - 0s 1ms/step - loss: 764003776.0000 - mean_squared_error: 764003776.0000\n",
      "Epoch 35/100\n",
      "366/366 [==============================] - 0s 1ms/step - loss: 763984512.0000 - mean_squared_error: 763984512.0000\n",
      "Epoch 36/100\n",
      "366/366 [==============================] - 0s 1ms/step - loss: 763960320.0000 - mean_squared_error: 763960320.0000\n",
      "Epoch 37/100\n",
      "366/366 [==============================] - 0s 1ms/step - loss: 763939904.0000 - mean_squared_error: 763939904.0000\n",
      "Epoch 38/100\n",
      "366/366 [==============================] - 0s 1ms/step - loss: 763922560.0000 - mean_squared_error: 763922560.0000\n",
      "Epoch 39/100\n",
      "366/366 [==============================] - 0s 1ms/step - loss: 763906752.0000 - mean_squared_error: 763906752.0000\n",
      "Epoch 40/100\n",
      "366/366 [==============================] - 0s 1ms/step - loss: 763891008.0000 - mean_squared_error: 763891008.0000: 0s - loss: 851376576.0000 - mean_squared_error: 851376576.\n",
      "Epoch 41/100\n",
      "366/366 [==============================] - 0s 1ms/step - loss: 763877760.0000 - mean_squared_error: 763877760.0000\n",
      "Epoch 42/100\n",
      "366/366 [==============================] - 0s 1ms/step - loss: 763862720.0000 - mean_squared_error: 763862720.0000\n",
      "Epoch 43/100\n",
      "366/366 [==============================] - 0s 1ms/step - loss: 763850432.0000 - mean_squared_error: 763850432.0000\n",
      "Epoch 44/100\n",
      "366/366 [==============================] - 0s 1ms/step - loss: 763836672.0000 - mean_squared_error: 763836672.0000\n",
      "Epoch 45/100\n",
      "366/366 [==============================] - 0s 1ms/step - loss: 763827456.0000 - mean_squared_error: 763827456.0000\n",
      "Epoch 46/100\n",
      "366/366 [==============================] - 0s 1ms/step - loss: 763814912.0000 - mean_squared_error: 763814912.0000\n",
      "Epoch 47/100\n",
      "366/366 [==============================] - 0s 1ms/step - loss: 763803776.0000 - mean_squared_error: 763803776.0000\n",
      "Epoch 48/100\n",
      "366/366 [==============================] - 0s 1ms/step - loss: 763798848.0000 - mean_squared_error: 763798848.0000\n",
      "Epoch 49/100\n",
      "366/366 [==============================] - 0s 1ms/step - loss: 763787392.0000 - mean_squared_error: 763787392.0000\n",
      "Epoch 50/100\n",
      "366/366 [==============================] - 0s 1ms/step - loss: 763776640.0000 - mean_squared_error: 763776640.0000TA: 0s - loss: 792371776.0000 - mean_squared_error: 7923\n",
      "Epoch 51/100\n",
      "366/366 [==============================] - 0s 1ms/step - loss: 763765440.0000 - mean_squared_error: 763765440.0000\n",
      "Epoch 52/100\n",
      "366/366 [==============================] - 0s 1ms/step - loss: 763756928.0000 - mean_squared_error: 763756928.0000\n",
      "Epoch 53/100\n",
      "366/366 [==============================] - 0s 1ms/step - loss: 763746752.0000 - mean_squared_error: 763746752.0000\n",
      "Epoch 54/100\n",
      "366/366 [==============================] - 0s 1ms/step - loss: 763738560.0000 - mean_squared_error: 763738560.0000\n",
      "Epoch 55/100\n",
      "366/366 [==============================] - 0s 1ms/step - loss: 763729344.0000 - mean_squared_error: 763729344.0000\n",
      "Epoch 56/100\n",
      "366/366 [==============================] - 0s 1ms/step - loss: 763717824.0000 - mean_squared_error: 763717824.0000\n",
      "Epoch 57/100\n",
      "366/366 [==============================] - 0s 1ms/step - loss: 763709632.0000 - mean_squared_error: 763709632.0000\n",
      "Epoch 58/100\n",
      "366/366 [==============================] - 0s 1ms/step - loss: 763701504.0000 - mean_squared_error: 763701504.0000\n",
      "Epoch 59/100\n",
      "366/366 [==============================] - 0s 1ms/step - loss: 763690112.0000 - mean_squared_error: 763690112.0000\n",
      "Epoch 60/100\n",
      "366/366 [==============================] - 0s 1ms/step - loss: 763681728.0000 - mean_squared_error: 763681728.0000\n",
      "Epoch 61/100\n",
      "366/366 [==============================] - 0s 1ms/step - loss: 763674752.0000 - mean_squared_error: 763674752.0000\n",
      "Epoch 62/100\n",
      "366/366 [==============================] - 0s 1ms/step - loss: 763668672.0000 - mean_squared_error: 763668672.0000\n",
      "Epoch 63/100\n"
     ]
    },
    {
     "name": "stdout",
     "output_type": "stream",
     "text": [
      "366/366 [==============================] - 1s 1ms/step - loss: 763655040.0000 - mean_squared_error: 763655040.0000\n",
      "Epoch 64/100\n",
      "366/366 [==============================] - 0s 1ms/step - loss: 763645440.0000 - mean_squared_error: 763645440.0000\n",
      "Epoch 65/100\n",
      "366/366 [==============================] - 0s 1ms/step - loss: 763640448.0000 - mean_squared_error: 763640448.0000\n",
      "Epoch 66/100\n",
      "366/366 [==============================] - 0s 1ms/step - loss: 763629760.0000 - mean_squared_error: 763629760.0000\n",
      "Epoch 67/100\n",
      "366/366 [==============================] - 0s 1ms/step - loss: 763620608.0000 - mean_squared_error: 763620608.0000\n",
      "Epoch 68/100\n",
      "366/366 [==============================] - 0s 1ms/step - loss: 763611584.0000 - mean_squared_error: 763611584.0000\n",
      "Epoch 69/100\n",
      "366/366 [==============================] - 0s 1ms/step - loss: 763602368.0000 - mean_squared_error: 763602368.0000\n",
      "Epoch 70/100\n",
      "366/366 [==============================] - 0s 1ms/step - loss: 763592704.0000 - mean_squared_error: 763592704.0000\n",
      "Epoch 71/100\n",
      "366/366 [==============================] - 0s 1ms/step - loss: 763583808.0000 - mean_squared_error: 763583808.0000\n",
      "Epoch 72/100\n",
      "366/366 [==============================] - 0s 1ms/step - loss: 763575744.0000 - mean_squared_error: 763575744.0000\n",
      "Epoch 73/100\n",
      "366/366 [==============================] - 0s 1ms/step - loss: 763563584.0000 - mean_squared_error: 763563584.0000\n",
      "Epoch 74/100\n",
      "366/366 [==============================] - 0s 1ms/step - loss: 763556672.0000 - mean_squared_error: 763556672.0000\n",
      "Epoch 75/100\n",
      "366/366 [==============================] - 0s 1ms/step - loss: 763550400.0000 - mean_squared_error: 763550400.0000\n",
      "Epoch 76/100\n",
      "366/366 [==============================] - 1s 1ms/step - loss: 763537728.0000 - mean_squared_error: 763537728.0000\n",
      "Epoch 77/100\n",
      "366/366 [==============================] - 0s 1ms/step - loss: 763530880.0000 - mean_squared_error: 763530880.0000\n",
      "Epoch 78/100\n",
      "366/366 [==============================] - 1s 1ms/step - loss: 763517120.0000 - mean_squared_error: 763517120.0000\n",
      "Epoch 79/100\n",
      "366/366 [==============================] - 0s 1ms/step - loss: 763514048.0000 - mean_squared_error: 763514048.0000\n",
      "Epoch 80/100\n",
      "366/366 [==============================] - 0s 1ms/step - loss: 763504448.0000 - mean_squared_error: 763504448.0000\n",
      "Epoch 81/100\n",
      "366/366 [==============================] - 0s 1ms/step - loss: 763496704.0000 - mean_squared_error: 763496704.0000\n",
      "Epoch 82/100\n",
      "366/366 [==============================] - 0s 1ms/step - loss: 763483456.0000 - mean_squared_error: 763483456.0000\n",
      "Epoch 83/100\n",
      "366/366 [==============================] - 0s 1ms/step - loss: 763474816.0000 - mean_squared_error: 763474816.0000\n",
      "Epoch 84/100\n",
      "366/366 [==============================] - 0s 1ms/step - loss: 763464896.0000 - mean_squared_error: 763464896.0000\n",
      "Epoch 85/100\n",
      "366/366 [==============================] - 0s 1ms/step - loss: 763453632.0000 - mean_squared_error: 763453632.0000\n",
      "Epoch 86/100\n",
      "366/366 [==============================] - 0s 1ms/step - loss: 763446144.0000 - mean_squared_error: 763446144.0000\n",
      "Epoch 87/100\n",
      "366/366 [==============================] - 0s 1ms/step - loss: 763437760.0000 - mean_squared_error: 763437760.0000\n",
      "Epoch 88/100\n",
      "366/366 [==============================] - 0s 1ms/step - loss: 763428864.0000 - mean_squared_error: 763428864.0000\n",
      "Epoch 89/100\n",
      "366/366 [==============================] - 0s 1ms/step - loss: 763418752.0000 - mean_squared_error: 763418752.0000\n",
      "Epoch 90/100\n",
      "366/366 [==============================] - 0s 1ms/step - loss: 763410048.0000 - mean_squared_error: 763410048.0000\n",
      "Epoch 91/100\n",
      "366/366 [==============================] - 0s 1ms/step - loss: 763403264.0000 - mean_squared_error: 763403264.0000\n",
      "Epoch 92/100\n",
      "366/366 [==============================] - 0s 1ms/step - loss: 763393536.0000 - mean_squared_error: 763393536.0000\n",
      "Epoch 93/100\n",
      "366/366 [==============================] - 0s 1ms/step - loss: 763381760.0000 - mean_squared_error: 763381760.0000\n",
      "Epoch 94/100\n",
      "366/366 [==============================] - 0s 1ms/step - loss: 763371904.0000 - mean_squared_error: 763371904.0000\n",
      "Epoch 95/100\n",
      "366/366 [==============================] - 0s 1ms/step - loss: 763363520.0000 - mean_squared_error: 763363520.0000\n",
      "Epoch 96/100\n",
      "366/366 [==============================] - 0s 1ms/step - loss: 763351680.0000 - mean_squared_error: 763351680.0000\n",
      "Epoch 97/100\n",
      "366/366 [==============================] - 0s 1ms/step - loss: 763342976.0000 - mean_squared_error: 763342976.0000\n",
      "Epoch 98/100\n",
      "366/366 [==============================] - 0s 1ms/step - loss: 763336384.0000 - mean_squared_error: 763336384.0000\n",
      "Epoch 99/100\n",
      "366/366 [==============================] - 1s 1ms/step - loss: 763326080.0000 - mean_squared_error: 763326080.0000: 0s - loss: 579599808.0000 - mean_squared_error: 57959980\n",
      "Epoch 100/100\n",
      "366/366 [==============================] - 0s 1ms/step - loss: 763314048.0000 - mean_squared_error: 763314048.0000\n",
      "Model: \"sequential\"\n",
      "_________________________________________________________________\n",
      "Layer (type)                 Output Shape              Param #   \n",
      "=================================================================\n",
      "dense (Dense)                (None, 6)                 48        \n",
      "_________________________________________________________________\n",
      "dense_1 (Dense)              (None, 6)                 42        \n",
      "_________________________________________________________________\n",
      "dense_2 (Dense)              (None, 1)                 7         \n",
      "=================================================================\n",
      "Total params: 97\n",
      "Trainable params: 97\n",
      "Non-trainable params: 0\n",
      "_________________________________________________________________\n",
      "Mean Absolute Error: 3305.345546730229\n",
      "Mean Squared Error: 829628881.7233202\n",
      "Root Mean Sqaured Error: 28803.279009920385\n"
     ]
    }
   ],
   "source": [
    "#Artificial Neural network\n",
    "import keras\n",
    "from keras.layers import Dense\n",
    "ann = keras.models.Sequential([\n",
    "                                Dense(6, activation=\"relu\", \n",
    "                                input_shape=x_train.shape[1:]), \n",
    "                                Dense(6,activation=\"relu\"), \n",
    "                                Dense(1) \n",
    "                                ]) \n",
    "optimizer=keras.optimizers.Adam() \n",
    "loss=keras.losses.mean_squared_error \n",
    "ann.compile(optimizer=optimizer,loss=loss,metrics=[\"mean_squared_error\"])\n",
    "history=ann.fit(x_train,y_train,epochs=100) \n",
    "ann.summary() \n",
    "print_error(x_test,y_test,ann)"
   ]
  },
  {
   "cell_type": "code",
   "execution_count": 27,
   "metadata": {},
   "outputs": [
    {
     "data": {
      "text/plain": [
       "['supportvector_youtubeadview.pkl']"
      ]
     },
     "execution_count": 27,
     "metadata": {},
     "output_type": "execute_result"
    }
   ],
   "source": [
    "#Saving Scikitlearn models\n",
    "import joblib\n",
    "joblib.dump(supportvector_regressor,\"supportvector_youtubeadview.pkl\")"
   ]
  },
  {
   "cell_type": "code",
   "execution_count": 28,
   "metadata": {},
   "outputs": [],
   "source": [
    "#Saving keras Artificial Neural Network Model\n",
    "ann.save(\"ann_youtubeadview.h5\")"
   ]
  },
  {
   "cell_type": "markdown",
   "metadata": {},
   "source": [
    "# Testing the test.csv dataset"
   ]
  },
  {
   "cell_type": "markdown",
   "metadata": {},
   "source": [
    "### Test.csv file preprocessing"
   ]
  },
  {
   "cell_type": "code",
   "execution_count": 29,
   "metadata": {},
   "outputs": [],
   "source": [
    "#importing data\n",
    "path =r\"C:\\Users\\Sailaja Sanni\\Desktop\\NEO INTERNSHIP\\ML INTERNSHIP\\PROJECT WEEK\\test.csv\"\n",
    "data_test=pd.read_csv(path)"
   ]
  },
  {
   "cell_type": "code",
   "execution_count": 30,
   "metadata": {},
   "outputs": [
    {
     "data": {
      "text/html": [
       "<div>\n",
       "<style scoped>\n",
       "    .dataframe tbody tr th:only-of-type {\n",
       "        vertical-align: middle;\n",
       "    }\n",
       "\n",
       "    .dataframe tbody tr th {\n",
       "        vertical-align: top;\n",
       "    }\n",
       "\n",
       "    .dataframe thead th {\n",
       "        text-align: right;\n",
       "    }\n",
       "</style>\n",
       "<table border=\"1\" class=\"dataframe\">\n",
       "  <thead>\n",
       "    <tr style=\"text-align: right;\">\n",
       "      <th></th>\n",
       "      <th>vidid</th>\n",
       "      <th>views</th>\n",
       "      <th>likes</th>\n",
       "      <th>dislikes</th>\n",
       "      <th>comment</th>\n",
       "      <th>published</th>\n",
       "      <th>duration</th>\n",
       "      <th>category</th>\n",
       "    </tr>\n",
       "  </thead>\n",
       "  <tbody>\n",
       "    <tr>\n",
       "      <th>0</th>\n",
       "      <td>VID_1054</td>\n",
       "      <td>440238</td>\n",
       "      <td>6153</td>\n",
       "      <td>218</td>\n",
       "      <td>1377</td>\n",
       "      <td>2017-02-18</td>\n",
       "      <td>PT7M29S</td>\n",
       "      <td>B</td>\n",
       "    </tr>\n",
       "    <tr>\n",
       "      <th>1</th>\n",
       "      <td>VID_18629</td>\n",
       "      <td>1040132</td>\n",
       "      <td>8171</td>\n",
       "      <td>340</td>\n",
       "      <td>1047</td>\n",
       "      <td>2016-06-28</td>\n",
       "      <td>PT6M29S</td>\n",
       "      <td>F</td>\n",
       "    </tr>\n",
       "    <tr>\n",
       "      <th>2</th>\n",
       "      <td>VID_13967</td>\n",
       "      <td>28534</td>\n",
       "      <td>31</td>\n",
       "      <td>11</td>\n",
       "      <td>1</td>\n",
       "      <td>2014-03-10</td>\n",
       "      <td>PT37M54S</td>\n",
       "      <td>D</td>\n",
       "    </tr>\n",
       "    <tr>\n",
       "      <th>3</th>\n",
       "      <td>VID_19442</td>\n",
       "      <td>1316715</td>\n",
       "      <td>2284</td>\n",
       "      <td>250</td>\n",
       "      <td>274</td>\n",
       "      <td>2010-06-05</td>\n",
       "      <td>PT9M55S</td>\n",
       "      <td>G</td>\n",
       "    </tr>\n",
       "    <tr>\n",
       "      <th>4</th>\n",
       "      <td>VID_770</td>\n",
       "      <td>1893173</td>\n",
       "      <td>2519</td>\n",
       "      <td>225</td>\n",
       "      <td>116</td>\n",
       "      <td>2016-09-03</td>\n",
       "      <td>PT3M8S</td>\n",
       "      <td>B</td>\n",
       "    </tr>\n",
       "  </tbody>\n",
       "</table>\n",
       "</div>"
      ],
      "text/plain": [
       "       vidid    views likes dislikes comment   published  duration category\n",
       "0   VID_1054   440238  6153      218    1377  2017-02-18   PT7M29S        B\n",
       "1  VID_18629  1040132  8171      340    1047  2016-06-28   PT6M29S        F\n",
       "2  VID_13967    28534    31       11       1  2014-03-10  PT37M54S        D\n",
       "3  VID_19442  1316715  2284      250     274  2010-06-05   PT9M55S        G\n",
       "4    VID_770  1893173  2519      225     116  2016-09-03    PT3M8S        B"
      ]
     },
     "execution_count": 30,
     "metadata": {},
     "output_type": "execute_result"
    }
   ],
   "source": [
    "data_test.head()"
   ]
  },
  {
   "cell_type": "code",
   "execution_count": 31,
   "metadata": {},
   "outputs": [
    {
     "data": {
      "text/plain": [
       "(8764, 8)"
      ]
     },
     "execution_count": 31,
     "metadata": {},
     "output_type": "execute_result"
    }
   ],
   "source": [
    "data_test.shape"
   ]
  },
  {
   "cell_type": "code",
   "execution_count": 32,
   "metadata": {},
   "outputs": [],
   "source": [
    "from keras.models import load_model \n",
    "model=load_model(\"ann_youtubeadview.h5\")"
   ]
  },
  {
   "cell_type": "code",
   "execution_count": 33,
   "metadata": {},
   "outputs": [],
   "source": [
    "#Removing the character \"F\" wherever it is present in the data\n",
    "data_test=data_test[data_test.views!='F']\n",
    "data_test=data_test[data_test.likes!='F']\n",
    "data_test=data_test[data_test.dislikes!='F']\n",
    "data_test=data_test[data_test.comment!='F']"
   ]
  },
  {
   "cell_type": "code",
   "execution_count": 34,
   "metadata": {},
   "outputs": [
    {
     "data": {
      "text/html": [
       "<div>\n",
       "<style scoped>\n",
       "    .dataframe tbody tr th:only-of-type {\n",
       "        vertical-align: middle;\n",
       "    }\n",
       "\n",
       "    .dataframe tbody tr th {\n",
       "        vertical-align: top;\n",
       "    }\n",
       "\n",
       "    .dataframe thead th {\n",
       "        text-align: right;\n",
       "    }\n",
       "</style>\n",
       "<table border=\"1\" class=\"dataframe\">\n",
       "  <thead>\n",
       "    <tr style=\"text-align: right;\">\n",
       "      <th></th>\n",
       "      <th>vidid</th>\n",
       "      <th>views</th>\n",
       "      <th>likes</th>\n",
       "      <th>dislikes</th>\n",
       "      <th>comment</th>\n",
       "      <th>published</th>\n",
       "      <th>duration</th>\n",
       "      <th>category</th>\n",
       "    </tr>\n",
       "  </thead>\n",
       "  <tbody>\n",
       "    <tr>\n",
       "      <th>0</th>\n",
       "      <td>VID_1054</td>\n",
       "      <td>440238</td>\n",
       "      <td>6153</td>\n",
       "      <td>218</td>\n",
       "      <td>1377</td>\n",
       "      <td>2017-02-18</td>\n",
       "      <td>PT7M29S</td>\n",
       "      <td>B</td>\n",
       "    </tr>\n",
       "    <tr>\n",
       "      <th>1</th>\n",
       "      <td>VID_18629</td>\n",
       "      <td>1040132</td>\n",
       "      <td>8171</td>\n",
       "      <td>340</td>\n",
       "      <td>1047</td>\n",
       "      <td>2016-06-28</td>\n",
       "      <td>PT6M29S</td>\n",
       "      <td>F</td>\n",
       "    </tr>\n",
       "    <tr>\n",
       "      <th>2</th>\n",
       "      <td>VID_13967</td>\n",
       "      <td>28534</td>\n",
       "      <td>31</td>\n",
       "      <td>11</td>\n",
       "      <td>1</td>\n",
       "      <td>2014-03-10</td>\n",
       "      <td>PT37M54S</td>\n",
       "      <td>D</td>\n",
       "    </tr>\n",
       "    <tr>\n",
       "      <th>3</th>\n",
       "      <td>VID_19442</td>\n",
       "      <td>1316715</td>\n",
       "      <td>2284</td>\n",
       "      <td>250</td>\n",
       "      <td>274</td>\n",
       "      <td>2010-06-05</td>\n",
       "      <td>PT9M55S</td>\n",
       "      <td>G</td>\n",
       "    </tr>\n",
       "    <tr>\n",
       "      <th>4</th>\n",
       "      <td>VID_770</td>\n",
       "      <td>1893173</td>\n",
       "      <td>2519</td>\n",
       "      <td>225</td>\n",
       "      <td>116</td>\n",
       "      <td>2016-09-03</td>\n",
       "      <td>PT3M8S</td>\n",
       "      <td>B</td>\n",
       "    </tr>\n",
       "  </tbody>\n",
       "</table>\n",
       "</div>"
      ],
      "text/plain": [
       "       vidid    views likes dislikes comment   published  duration category\n",
       "0   VID_1054   440238  6153      218    1377  2017-02-18   PT7M29S        B\n",
       "1  VID_18629  1040132  8171      340    1047  2016-06-28   PT6M29S        F\n",
       "2  VID_13967    28534    31       11       1  2014-03-10  PT37M54S        D\n",
       "3  VID_19442  1316715  2284      250     274  2010-06-05   PT9M55S        G\n",
       "4    VID_770  1893173  2519      225     116  2016-09-03    PT3M8S        B"
      ]
     },
     "execution_count": 34,
     "metadata": {},
     "output_type": "execute_result"
    }
   ],
   "source": [
    "data_test.head()"
   ]
  },
  {
   "cell_type": "code",
   "execution_count": 35,
   "metadata": {},
   "outputs": [
    {
     "data": {
      "text/html": [
       "<div>\n",
       "<style scoped>\n",
       "    .dataframe tbody tr th:only-of-type {\n",
       "        vertical-align: middle;\n",
       "    }\n",
       "\n",
       "    .dataframe tbody tr th {\n",
       "        vertical-align: top;\n",
       "    }\n",
       "\n",
       "    .dataframe thead th {\n",
       "        text-align: right;\n",
       "    }\n",
       "</style>\n",
       "<table border=\"1\" class=\"dataframe\">\n",
       "  <thead>\n",
       "    <tr style=\"text-align: right;\">\n",
       "      <th></th>\n",
       "      <th>vidid</th>\n",
       "      <th>views</th>\n",
       "      <th>likes</th>\n",
       "      <th>dislikes</th>\n",
       "      <th>comment</th>\n",
       "      <th>published</th>\n",
       "      <th>duration</th>\n",
       "      <th>category</th>\n",
       "    </tr>\n",
       "  </thead>\n",
       "  <tbody>\n",
       "    <tr>\n",
       "      <th>0</th>\n",
       "      <td>VID_1054</td>\n",
       "      <td>440238</td>\n",
       "      <td>6153</td>\n",
       "      <td>218</td>\n",
       "      <td>1377</td>\n",
       "      <td>2017-02-18</td>\n",
       "      <td>PT7M29S</td>\n",
       "      <td>2</td>\n",
       "    </tr>\n",
       "    <tr>\n",
       "      <th>1</th>\n",
       "      <td>VID_18629</td>\n",
       "      <td>1040132</td>\n",
       "      <td>8171</td>\n",
       "      <td>340</td>\n",
       "      <td>1047</td>\n",
       "      <td>2016-06-28</td>\n",
       "      <td>PT6M29S</td>\n",
       "      <td>6</td>\n",
       "    </tr>\n",
       "    <tr>\n",
       "      <th>2</th>\n",
       "      <td>VID_13967</td>\n",
       "      <td>28534</td>\n",
       "      <td>31</td>\n",
       "      <td>11</td>\n",
       "      <td>1</td>\n",
       "      <td>2014-03-10</td>\n",
       "      <td>PT37M54S</td>\n",
       "      <td>4</td>\n",
       "    </tr>\n",
       "    <tr>\n",
       "      <th>3</th>\n",
       "      <td>VID_19442</td>\n",
       "      <td>1316715</td>\n",
       "      <td>2284</td>\n",
       "      <td>250</td>\n",
       "      <td>274</td>\n",
       "      <td>2010-06-05</td>\n",
       "      <td>PT9M55S</td>\n",
       "      <td>7</td>\n",
       "    </tr>\n",
       "    <tr>\n",
       "      <th>4</th>\n",
       "      <td>VID_770</td>\n",
       "      <td>1893173</td>\n",
       "      <td>2519</td>\n",
       "      <td>225</td>\n",
       "      <td>116</td>\n",
       "      <td>2016-09-03</td>\n",
       "      <td>PT3M8S</td>\n",
       "      <td>2</td>\n",
       "    </tr>\n",
       "  </tbody>\n",
       "</table>\n",
       "</div>"
      ],
      "text/plain": [
       "       vidid    views likes dislikes comment   published  duration  category\n",
       "0   VID_1054   440238  6153      218    1377  2017-02-18   PT7M29S         2\n",
       "1  VID_18629  1040132  8171      340    1047  2016-06-28   PT6M29S         6\n",
       "2  VID_13967    28534    31       11       1  2014-03-10  PT37M54S         4\n",
       "3  VID_19442  1316715  2284      250     274  2010-06-05   PT9M55S         7\n",
       "4    VID_770  1893173  2519      225     116  2016-09-03    PT3M8S         2"
      ]
     },
     "execution_count": 35,
     "metadata": {},
     "output_type": "execute_result"
    }
   ],
   "source": [
    "#Assigning a number for each category feature\n",
    "category={'A':1,'B':2,'C':3,'D':4,'E':5,'F':6,'G':7,'H':8}\n",
    "data_test[\"category\"]=data_test[\"category\"].map(category)\n",
    "data_test.head()"
   ]
  },
  {
   "cell_type": "code",
   "execution_count": 36,
   "metadata": {},
   "outputs": [],
   "source": [
    "#convert string values into integers for the attributes called views,likes,comments and dislikes \n",
    "data_test[\"views\"]=pd.to_numeric(data_test[\"views\"])\n",
    "data_test[\"comment\"]=pd.to_numeric(data_test[\"comment\"])\n",
    "data_test[\"likes\"]=pd.to_numeric(data_test[\"likes\"])\n",
    "data_test[\"dislikes\"]=pd.to_numeric(data_test[\"dislikes\"])\n",
    "\n",
    "column_vidid=data_test['vidid']"
   ]
  },
  {
   "cell_type": "code",
   "execution_count": 37,
   "metadata": {},
   "outputs": [
    {
     "data": {
      "text/html": [
       "<div>\n",
       "<style scoped>\n",
       "    .dataframe tbody tr th:only-of-type {\n",
       "        vertical-align: middle;\n",
       "    }\n",
       "\n",
       "    .dataframe tbody tr th {\n",
       "        vertical-align: top;\n",
       "    }\n",
       "\n",
       "    .dataframe thead th {\n",
       "        text-align: right;\n",
       "    }\n",
       "</style>\n",
       "<table border=\"1\" class=\"dataframe\">\n",
       "  <thead>\n",
       "    <tr style=\"text-align: right;\">\n",
       "      <th></th>\n",
       "      <th>vidid</th>\n",
       "      <th>views</th>\n",
       "      <th>likes</th>\n",
       "      <th>dislikes</th>\n",
       "      <th>comment</th>\n",
       "      <th>published</th>\n",
       "      <th>duration</th>\n",
       "      <th>category</th>\n",
       "    </tr>\n",
       "  </thead>\n",
       "  <tbody>\n",
       "    <tr>\n",
       "      <th>0</th>\n",
       "      <td>231</td>\n",
       "      <td>440238</td>\n",
       "      <td>6153</td>\n",
       "      <td>218</td>\n",
       "      <td>1377</td>\n",
       "      <td>2053</td>\n",
       "      <td>2115</td>\n",
       "      <td>2</td>\n",
       "    </tr>\n",
       "    <tr>\n",
       "      <th>1</th>\n",
       "      <td>3444</td>\n",
       "      <td>1040132</td>\n",
       "      <td>8171</td>\n",
       "      <td>340</td>\n",
       "      <td>1047</td>\n",
       "      <td>1825</td>\n",
       "      <td>2055</td>\n",
       "      <td>6</td>\n",
       "    </tr>\n",
       "    <tr>\n",
       "      <th>2</th>\n",
       "      <td>1593</td>\n",
       "      <td>28534</td>\n",
       "      <td>31</td>\n",
       "      <td>11</td>\n",
       "      <td>1</td>\n",
       "      <td>1009</td>\n",
       "      <td>1506</td>\n",
       "      <td>4</td>\n",
       "    </tr>\n",
       "    <tr>\n",
       "      <th>3</th>\n",
       "      <td>3775</td>\n",
       "      <td>1316715</td>\n",
       "      <td>2284</td>\n",
       "      <td>250</td>\n",
       "      <td>274</td>\n",
       "      <td>116</td>\n",
       "      <td>2265</td>\n",
       "      <td>7</td>\n",
       "    </tr>\n",
       "    <tr>\n",
       "      <th>4</th>\n",
       "      <td>7644</td>\n",
       "      <td>1893173</td>\n",
       "      <td>2519</td>\n",
       "      <td>225</td>\n",
       "      <td>116</td>\n",
       "      <td>1892</td>\n",
       "      <td>1625</td>\n",
       "      <td>2</td>\n",
       "    </tr>\n",
       "  </tbody>\n",
       "</table>\n",
       "</div>"
      ],
      "text/plain": [
       "   vidid    views  likes  dislikes  comment  published  duration  category\n",
       "0    231   440238   6153       218     1377       2053      2115         2\n",
       "1   3444  1040132   8171       340     1047       1825      2055         6\n",
       "2   1593    28534     31        11        1       1009      1506         4\n",
       "3   3775  1316715   2284       250      274        116      2265         7\n",
       "4   7644  1893173   2519       225      116       1892      1625         2"
      ]
     },
     "execution_count": 37,
     "metadata": {},
     "output_type": "execute_result"
    }
   ],
   "source": [
    "#Encoding the attribute features like duration,vidid,published\n",
    "from sklearn.preprocessing import LabelEncoder\n",
    "data_test['duration']=LabelEncoder().fit_transform(data_test['duration'])\n",
    "data_test['vidid']=LabelEncoder().fit_transform(data_test['vidid'])\n",
    "data_test['published']=LabelEncoder().fit_transform(data_test['published'])\n",
    "data_test.head()"
   ]
  },
  {
   "cell_type": "code",
   "execution_count": 38,
   "metadata": {},
   "outputs": [
    {
     "data": {
      "text/html": [
       "<div>\n",
       "<style scoped>\n",
       "    .dataframe tbody tr th:only-of-type {\n",
       "        vertical-align: middle;\n",
       "    }\n",
       "\n",
       "    .dataframe tbody tr th {\n",
       "        vertical-align: top;\n",
       "    }\n",
       "\n",
       "    .dataframe thead th {\n",
       "        text-align: right;\n",
       "    }\n",
       "</style>\n",
       "<table border=\"1\" class=\"dataframe\">\n",
       "  <thead>\n",
       "    <tr style=\"text-align: right;\">\n",
       "      <th></th>\n",
       "      <th>vidid</th>\n",
       "      <th>views</th>\n",
       "      <th>likes</th>\n",
       "      <th>dislikes</th>\n",
       "      <th>comment</th>\n",
       "      <th>published</th>\n",
       "      <th>duration</th>\n",
       "      <th>category</th>\n",
       "    </tr>\n",
       "  </thead>\n",
       "  <tbody>\n",
       "    <tr>\n",
       "      <th>0</th>\n",
       "      <td>231</td>\n",
       "      <td>440238</td>\n",
       "      <td>6153</td>\n",
       "      <td>218</td>\n",
       "      <td>1377</td>\n",
       "      <td>2053</td>\n",
       "      <td>449</td>\n",
       "      <td>2</td>\n",
       "    </tr>\n",
       "    <tr>\n",
       "      <th>1</th>\n",
       "      <td>3444</td>\n",
       "      <td>1040132</td>\n",
       "      <td>8171</td>\n",
       "      <td>340</td>\n",
       "      <td>1047</td>\n",
       "      <td>1825</td>\n",
       "      <td>389</td>\n",
       "      <td>6</td>\n",
       "    </tr>\n",
       "    <tr>\n",
       "      <th>2</th>\n",
       "      <td>1593</td>\n",
       "      <td>28534</td>\n",
       "      <td>31</td>\n",
       "      <td>11</td>\n",
       "      <td>1</td>\n",
       "      <td>1009</td>\n",
       "      <td>2274</td>\n",
       "      <td>4</td>\n",
       "    </tr>\n",
       "    <tr>\n",
       "      <th>3</th>\n",
       "      <td>3775</td>\n",
       "      <td>1316715</td>\n",
       "      <td>2284</td>\n",
       "      <td>250</td>\n",
       "      <td>274</td>\n",
       "      <td>116</td>\n",
       "      <td>595</td>\n",
       "      <td>7</td>\n",
       "    </tr>\n",
       "    <tr>\n",
       "      <th>4</th>\n",
       "      <td>7644</td>\n",
       "      <td>1893173</td>\n",
       "      <td>2519</td>\n",
       "      <td>225</td>\n",
       "      <td>116</td>\n",
       "      <td>1892</td>\n",
       "      <td>188</td>\n",
       "      <td>2</td>\n",
       "    </tr>\n",
       "  </tbody>\n",
       "</table>\n",
       "</div>"
      ],
      "text/plain": [
       "   vidid    views  likes  dislikes  comment  published  duration  category\n",
       "0    231   440238   6153       218     1377       2053       449         2\n",
       "1   3444  1040132   8171       340     1047       1825       389         6\n",
       "2   1593    28534     31        11        1       1009      2274         4\n",
       "3   3775  1316715   2284       250      274        116       595         7\n",
       "4   7644  1893173   2519       225      116       1892       188         2"
      ]
     },
     "execution_count": 38,
     "metadata": {},
     "output_type": "execute_result"
    }
   ],
   "source": [
    "#Converting duration into Time_in_sec format \n",
    "import datetime\n",
    "import time\n",
    "def checki(x):\n",
    "    y=x[2:]\n",
    "    h=''\n",
    "    m=''\n",
    "    s=''\n",
    "    mm=''\n",
    "    p=['H','M','S']\n",
    "    for i in y:\n",
    "        if i not in p:\n",
    "            mm+=i\n",
    "        else:\n",
    "            if(i==\"H\"):\n",
    "                h=mm\n",
    "                mm=''\n",
    "            elif(i==\"M\"):\n",
    "                m=mm\n",
    "                mm=''\n",
    "            else:\n",
    "                s=mm\n",
    "                mm=''\n",
    "    if(h==''):\n",
    "        h='00'\n",
    "    if(m==''):\n",
    "        m='00'\n",
    "    if(s==''):\n",
    "        s='00'\n",
    "    bp = h+':'+m+':'+s\n",
    "    return bp\n",
    "train=pd.read_csv(r\"C:\\Users\\Sailaja Sanni\\Desktop\\NEO INTERNSHIP\\ML INTERNSHIP\\PROJECT WEEK\\test.csv\")\n",
    "mp=pd.read_csv(r\"C:\\Users\\Sailaja Sanni\\Desktop\\NEO INTERNSHIP\\ML INTERNSHIP\\PROJECT WEEK\\test.csv\")[\"duration\"]\n",
    "time=mp.apply(checki)\n",
    "\n",
    "def func_sec(time_string):\n",
    "    h,m,s =time_string.split(':')\n",
    "    return int(h) * 3600 + int(m) *60 + int(s)\n",
    "time1=time.apply(func_sec)\n",
    "data_test[\"duration\"]=time1\n",
    "data_test.head()\n"
   ]
  },
  {
   "cell_type": "code",
   "execution_count": 39,
   "metadata": {},
   "outputs": [
    {
     "data": {
      "image/png": "[encoded data removed]",
      "text/plain": [
       "<Figure size 432x288 with 1 Axes>"
      ]
     },
     "metadata": {
      "needs_background": "light"
     },
     "output_type": "display_data"
    },
    {
     "data": {
      "image/png": "[encoded data removed]",
      "text/plain": [
       "<Figure size 432x288 with 1 Axes>"
      ]
     },
     "metadata": {
      "needs_background": "light"
     },
     "output_type": "display_data"
    },
    {
     "data": {
      "image/png": "[encoded data removed]",
      "text/plain": [
       "<Figure size 432x288 with 1 Axes>"
      ]
     },
     "metadata": {
      "needs_background": "light"
     },
     "output_type": "display_data"
    },
    {
     "data": {
      "image/png": "[encoded data removed]",
      "text/plain": [
       "<Figure size 432x288 with 1 Axes>"
      ]
     },
     "metadata": {
      "needs_background": "light"
     },
     "output_type": "display_data"
    }
   ],
   "source": [
    "#visualizing the data for individual attributes\n",
    "plt.plot(data_test[\"likes\"])\n",
    "plt.show()\n",
    "plt.hist(data_test[\"likes\"])\n",
    "plt.show()\n",
    "\n",
    "plt.plot(data_test[\"category\"])\n",
    "plt.show()\n",
    "plt.hist(data_test[\"category\"])\n",
    "plt.show()\n"
   ]
  },
  {
   "cell_type": "code",
   "execution_count": 40,
   "metadata": {},
   "outputs": [
    {
     "data": {
      "image/png": "[encoded data removed]",
      "text/plain": [
       "<Figure size 720x576 with 2 Axes>"
      ]
     },
     "metadata": {
      "needs_background": "light"
     },
     "output_type": "display_data"
    }
   ],
   "source": [
    "#Heatmap plotting\n",
    "import seaborn as sns\n",
    "f,ax = plt.subplots(figsize=(10,8))\n",
    "corr = data_test.corr()\n",
    "sns.heatmap(corr,mask=np.zeros_like(corr), cmap=sns.diverging_palette(220,10,as_cmap=True),square=True, ax=ax ,annot=True)\n",
    "plt.show()"
   ]
  },
  {
   "cell_type": "code",
   "execution_count": 41,
   "metadata": {},
   "outputs": [
    {
     "data": {
      "text/html": [
       "<div>\n",
       "<style scoped>\n",
       "    .dataframe tbody tr th:only-of-type {\n",
       "        vertical-align: middle;\n",
       "    }\n",
       "\n",
       "    .dataframe tbody tr th {\n",
       "        vertical-align: top;\n",
       "    }\n",
       "\n",
       "    .dataframe thead th {\n",
       "        text-align: right;\n",
       "    }\n",
       "</style>\n",
       "<table border=\"1\" class=\"dataframe\">\n",
       "  <thead>\n",
       "    <tr style=\"text-align: right;\">\n",
       "      <th></th>\n",
       "      <th>views</th>\n",
       "      <th>likes</th>\n",
       "      <th>dislikes</th>\n",
       "      <th>comment</th>\n",
       "      <th>published</th>\n",
       "      <th>duration</th>\n",
       "      <th>category</th>\n",
       "    </tr>\n",
       "  </thead>\n",
       "  <tbody>\n",
       "    <tr>\n",
       "      <th>0</th>\n",
       "      <td>440238</td>\n",
       "      <td>6153</td>\n",
       "      <td>218</td>\n",
       "      <td>1377</td>\n",
       "      <td>2053</td>\n",
       "      <td>449</td>\n",
       "      <td>2</td>\n",
       "    </tr>\n",
       "    <tr>\n",
       "      <th>1</th>\n",
       "      <td>1040132</td>\n",
       "      <td>8171</td>\n",
       "      <td>340</td>\n",
       "      <td>1047</td>\n",
       "      <td>1825</td>\n",
       "      <td>389</td>\n",
       "      <td>6</td>\n",
       "    </tr>\n",
       "    <tr>\n",
       "      <th>2</th>\n",
       "      <td>28534</td>\n",
       "      <td>31</td>\n",
       "      <td>11</td>\n",
       "      <td>1</td>\n",
       "      <td>1009</td>\n",
       "      <td>2274</td>\n",
       "      <td>4</td>\n",
       "    </tr>\n",
       "    <tr>\n",
       "      <th>3</th>\n",
       "      <td>1316715</td>\n",
       "      <td>2284</td>\n",
       "      <td>250</td>\n",
       "      <td>274</td>\n",
       "      <td>116</td>\n",
       "      <td>595</td>\n",
       "      <td>7</td>\n",
       "    </tr>\n",
       "    <tr>\n",
       "      <th>4</th>\n",
       "      <td>1893173</td>\n",
       "      <td>2519</td>\n",
       "      <td>225</td>\n",
       "      <td>116</td>\n",
       "      <td>1892</td>\n",
       "      <td>188</td>\n",
       "      <td>2</td>\n",
       "    </tr>\n",
       "  </tbody>\n",
       "</table>\n",
       "</div>"
      ],
      "text/plain": [
       "     views  likes  dislikes  comment  published  duration  category\n",
       "0   440238   6153       218     1377       2053       449         2\n",
       "1  1040132   8171       340     1047       1825       389         6\n",
       "2    28534     31        11        1       1009      2274         4\n",
       "3  1316715   2284       250      274        116       595         7\n",
       "4  1893173   2519       225      116       1892       188         2"
      ]
     },
     "execution_count": 41,
     "metadata": {},
     "output_type": "execute_result"
    }
   ],
   "source": [
    "data_test=data_test.drop([\"vidid\"],axis=1)\n",
    "data_test.head()"
   ]
  },
  {
   "cell_type": "code",
   "execution_count": 42,
   "metadata": {},
   "outputs": [],
   "source": [
    "from sklearn.preprocessing import MinMaxScaler\n",
    "scaler = MinMaxScaler()\n",
    "X_test = data_test\n",
    "X_test=scaler.fit_transform(X_test)"
   ]
  },
  {
   "cell_type": "markdown",
   "metadata": {},
   "source": [
    "#### prediction of ‘adview’ for the test.csv data."
   ]
  },
  {
   "cell_type": "code",
   "execution_count": 43,
   "metadata": {},
   "outputs": [],
   "source": [
    "prediction = model.predict(X_test)"
   ]
  },
  {
   "cell_type": "code",
   "execution_count": 44,
   "metadata": {},
   "outputs": [
    {
     "name": "stdout",
     "output_type": "stream",
     "text": [
      "<class 'pandas.core.frame.DataFrame'>\n",
      "RangeIndex: 8549 entries, 0 to 8548\n",
      "Data columns (total 1 columns):\n",
      " #   Column  Non-Null Count  Dtype  \n",
      "---  ------  --------------  -----  \n",
      " 0   0       8549 non-null   float32\n",
      "dtypes: float32(1)\n",
      "memory usage: 33.5 KB\n"
     ]
    }
   ],
   "source": [
    "prediction=pd.DataFrame(prediction)\n",
    "prediction.info()"
   ]
  },
  {
   "cell_type": "code",
   "execution_count": 45,
   "metadata": {},
   "outputs": [],
   "source": [
    "prediction = prediction.rename(columns={0: \"Adview\"})"
   ]
  },
  {
   "cell_type": "code",
   "execution_count": 46,
   "metadata": {},
   "outputs": [
    {
     "data": {
      "text/html": [
       "<div>\n",
       "<style scoped>\n",
       "    .dataframe tbody tr th:only-of-type {\n",
       "        vertical-align: middle;\n",
       "    }\n",
       "\n",
       "    .dataframe tbody tr th {\n",
       "        vertical-align: top;\n",
       "    }\n",
       "\n",
       "    .dataframe thead th {\n",
       "        text-align: right;\n",
       "    }\n",
       "</style>\n",
       "<table border=\"1\" class=\"dataframe\">\n",
       "  <thead>\n",
       "    <tr style=\"text-align: right;\">\n",
       "      <th></th>\n",
       "      <th>Adview</th>\n",
       "    </tr>\n",
       "  </thead>\n",
       "  <tbody>\n",
       "    <tr>\n",
       "      <th>0</th>\n",
       "      <td>2175.437500</td>\n",
       "    </tr>\n",
       "    <tr>\n",
       "      <th>1</th>\n",
       "      <td>2359.972168</td>\n",
       "    </tr>\n",
       "    <tr>\n",
       "      <th>2</th>\n",
       "      <td>1407.820190</td>\n",
       "    </tr>\n",
       "    <tr>\n",
       "      <th>3</th>\n",
       "      <td>1265.895020</td>\n",
       "    </tr>\n",
       "    <tr>\n",
       "      <th>4</th>\n",
       "      <td>2085.244629</td>\n",
       "    </tr>\n",
       "  </tbody>\n",
       "</table>\n",
       "</div>"
      ],
      "text/plain": [
       "        Adview\n",
       "0  2175.437500\n",
       "1  2359.972168\n",
       "2  1407.820190\n",
       "3  1265.895020\n",
       "4  2085.244629"
      ]
     },
     "execution_count": 46,
     "metadata": {},
     "output_type": "execute_result"
    }
   ],
   "source": [
    "prediction.head()"
   ]
  },
  {
   "cell_type": "markdown",
   "metadata": {},
   "source": [
    "##### After predicting ‘adview’ save the column in a predictions.csv file."
   ]
  },
  {
   "cell_type": "code",
   "execution_count": 47,
   "metadata": {},
   "outputs": [],
   "source": [
    "prediction.to_csv('predictions.csv')"
   ]
  }
 ],
 "metadata": {
  "celltoolbar": "Raw Cell Format",
  "kernelspec": {
   "display_name": "Python 3",
   "language": "python",
   "name": "python3"
  },
  "language_info": {
   "codemirror_mode": {
    "name": "ipython",
    "version": 3
   },
   "file_extension": ".py",
   "mimetype": "text/x-python",
   "name": "python",
   "nbconvert_exporter": "python",
   "pygments_lexer": "ipython3",
   "version": "3.8.5"
  }
 },
 "nbformat": 4,
 "nbformat_minor": 4
}
